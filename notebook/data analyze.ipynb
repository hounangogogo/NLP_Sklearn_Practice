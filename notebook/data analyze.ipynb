{
 "cells": [
  {
   "cell_type": "code",
   "execution_count": 3,
   "metadata": {},
   "outputs": [
    {
     "data": {
      "text/html": [
       "<div>\n",
       "<style scoped>\n",
       "    .dataframe tbody tr th:only-of-type {\n",
       "        vertical-align: middle;\n",
       "    }\n",
       "\n",
       "    .dataframe tbody tr th {\n",
       "        vertical-align: top;\n",
       "    }\n",
       "\n",
       "    .dataframe thead th {\n",
       "        text-align: right;\n",
       "    }\n",
       "</style>\n",
       "<table border=\"1\" class=\"dataframe\">\n",
       "  <thead>\n",
       "    <tr style=\"text-align: right;\">\n",
       "      <th></th>\n",
       "      <th>label</th>\n",
       "      <th>text</th>\n",
       "    </tr>\n",
       "  </thead>\n",
       "  <tbody>\n",
       "    <tr>\n",
       "      <th>0</th>\n",
       "      <td>alt.atheism</td>\n",
       "      <td>b'From: mathew &lt;mathew@mantis.co.uk&gt;\\nSubject:...</td>\n",
       "    </tr>\n",
       "    <tr>\n",
       "      <th>1</th>\n",
       "      <td>alt.atheism</td>\n",
       "      <td>b'From: mathew &lt;mathew@mantis.co.uk&gt;\\nSubject:...</td>\n",
       "    </tr>\n",
       "    <tr>\n",
       "      <th>2</th>\n",
       "      <td>alt.atheism</td>\n",
       "      <td>b'From: I3150101@dbstu1.rz.tu-bs.de (Benedikt ...</td>\n",
       "    </tr>\n",
       "    <tr>\n",
       "      <th>3</th>\n",
       "      <td>alt.atheism</td>\n",
       "      <td>b'From: mathew &lt;mathew@mantis.co.uk&gt;\\nSubject:...</td>\n",
       "    </tr>\n",
       "    <tr>\n",
       "      <th>4</th>\n",
       "      <td>alt.atheism</td>\n",
       "      <td>b'From: strom@Watson.Ibm.Com (Rob Strom)\\nSubj...</td>\n",
       "    </tr>\n",
       "  </tbody>\n",
       "</table>\n",
       "</div>"
      ],
      "text/plain": [
       "         label                                               text\n",
       "0  alt.atheism  b'From: mathew <mathew@mantis.co.uk>\\nSubject:...\n",
       "1  alt.atheism  b'From: mathew <mathew@mantis.co.uk>\\nSubject:...\n",
       "2  alt.atheism  b'From: I3150101@dbstu1.rz.tu-bs.de (Benedikt ...\n",
       "3  alt.atheism  b'From: mathew <mathew@mantis.co.uk>\\nSubject:...\n",
       "4  alt.atheism  b'From: strom@Watson.Ibm.Com (Rob Strom)\\nSubj..."
      ]
     },
     "execution_count": 3,
     "metadata": {},
     "output_type": "execute_result"
    }
   ],
   "source": [
    "import pandas as pd\n",
    "\n",
    "dataset = pd.read_csv('../data/20news-18828.csv', header=None, delimiter=',', names=['label', 'text'])\n",
    "dataset.head()"
   ]
  },
  {
   "cell_type": "code",
   "execution_count": 9,
   "metadata": {},
   "outputs": [
    {
     "name": "stdout",
     "output_type": "stream",
     "text": [
      "数据集有20类: True\n",
      "数据集一共有18828条记录: True\n"
     ]
    }
   ],
   "source": [
    "# dataset.label等同于  dataset['label']\n",
    "print(\"数据集有20类: %s\" % (len(dataset.label.unique()) == 20))\n",
    "print(\"数据集一共有18828条记录: %s\" % (len(dataset) == 18828))"
   ]
  },
  {
   "cell_type": "markdown",
   "metadata": {},
   "source": [
    "# Data Preparation"
   ]
  },
  {
   "cell_type": "code",
   "execution_count": 11,
   "metadata": {},
   "outputs": [],
   "source": [
    "# 机器学习，一般需要将数据集分为训练集和测试集。过去和现在的数据可以作为训练集去训练模型，\n",
    "# 测试集可理解成未知的或者未来的数据，是用来检验型的数据。"
   ]
  },
  {
   "cell_type": "code",
   "execution_count": 12,
   "metadata": {},
   "outputs": [],
   "source": [
    "# train_test_split函数用于将矩阵随机划分为训练子集和测试子集，并返回划分好的训练集测试集样本和训练集测试集标签。\n",
    "# X_train,X_test, y_train, y_test = train_test_split(train_data,train_target,test_size=0.3, random_state=0)\n",
    "\n",
    "# train_data：被划分的样本特征集\n",
    "# train_target：被划分的样本标签\n",
    "# test_size：如果是浮点数，在0-1之间，表示样本占比；如果是整数的话就是样本的数量\n",
    "# random_state：是随机数的种子。\n",
    "\n",
    "\n",
    "from sklearn.model_selection import train_test_split\n",
    "\n",
    "# 30% of data is the testing set\n",
    "X_train, X_test, y_train, y_test =train_test_split(dataset.text, dataset.label, test_size=0.3)\n",
    "\n"
   ]
  },
  {
   "cell_type": "markdown",
   "metadata": {},
   "source": [
    "# Feature Extraction Using CountVectorizer"
   ]
  },
  {
   "cell_type": "code",
   "execution_count": 20,
   "metadata": {},
   "outputs": [
    {
     "data": {
      "text/plain": [
       "(13179, 182576)"
      ]
     },
     "execution_count": 20,
     "metadata": {},
     "output_type": "execute_result"
    }
   ],
   "source": [
    "from sklearn.feature_extraction.text import CountVectorizer\n",
    "import re\n",
    "\n",
    "def normalize_numbers(s):\n",
    "    \"\"\"\n",
    "    将数字特征统一替换为NUM\n",
    "    \"\"\"\n",
    "    return re.sub(r'\\b\\d+\\b', 'NUM', s)\n",
    "\n",
    "\n",
    "#CountVectorizer和TfidfVectorizer都有preprocessor参数，该参数传入预处理函数。\n",
    "#也含有停用词处理参数stop_words\n",
    "cv = CountVectorizer(preprocessor=normalize_numbers, stop_words='english')\n",
    "\n",
    "#fit_transform是fit和transform两种方法的简写\n",
    "#fit方法用于构建特征空间（也就是构建词典）\n",
    "#transform方法使用该空间将文本数据转化为特征矩阵\n",
    "X_train_counts = cv.fit_transform(X_train)\n",
    "\n",
    "#该矩阵共有13179行，对应着13179条数据。 \n",
    "#175237表示特征空间共有161958个词语。\n",
    "X_train_counts.shape\n",
    "\n",
    "\n"
   ]
  },
  {
   "cell_type": "code",
   "execution_count": 21,
   "metadata": {},
   "outputs": [
    {
     "data": {
      "text/plain": [
       "(5649, 182576)"
      ]
     },
     "execution_count": 21,
     "metadata": {},
     "output_type": "execute_result"
    }
   ],
   "source": [
    "# 训练集其实主要是学会数据中的特征空间（构建词典），之后我们需要用学到的特征空间去处理测试集。\n",
    "# 所以我们只需要用到transform方法，从而将测试集数据从文本数据转化为特征矩阵。\n",
    "X_test_counts = cv.transform(X_test)\n",
    "\n",
    "#这里你会发现，测试集特征矩阵的列数与训练集特征矩阵的列数是一致的，都是175237\n",
    "X_test_counts.shape"
   ]
  },
  {
   "cell_type": "markdown",
   "metadata": {},
   "source": [
    "# Machine Learning\n"
   ]
  },
  {
   "cell_type": "code",
   "execution_count": 22,
   "metadata": {},
   "outputs": [
    {
     "name": "stdout",
     "output_type": "stream",
     "text": [
      "rec.sport.hockey rec.sport.hockey\n",
      "misc.forsale misc.forsale\n",
      "rec.autos rec.autos\n",
      "sci.crypt sci.crypt\n",
      "comp.graphics comp.graphics\n",
      "misc.forsale misc.forsale\n",
      "soc.religion.christian talk.religion.misc\n",
      "rec.motorcycles rec.motorcycles\n",
      "comp.sys.ibm.pc.hardware comp.sys.ibm.pc.hardware\n",
      "rec.motorcycles rec.motorcycles\n"
     ]
    }
   ],
   "source": [
    "from sklearn.naive_bayes import MultinomialNB\n",
    "\n",
    "estimator = MultinomialNB()\n",
    "#这里是有监督的训练模型\n",
    "#所以要同时输入X_train_counts和y_train\n",
    "estimator.fit(X_train_counts, y_train)\n",
    "\n",
    "#训练好的模型，对测试集数据进行预测\n",
    "predicted = estimator.predict(X_test_counts)\n",
    "\n",
    "# 这里我们仅仅打印前10个测试数据的预测  及其真实类别\n",
    "for prediction, truth in zip(predicted[:10], y_test[:10]):\n",
    "    print(prediction, truth)"
   ]
  },
  {
   "cell_type": "code",
   "execution_count": 23,
   "metadata": {},
   "outputs": [
    {
     "name": "stdout",
     "output_type": "stream",
     "text": [
      "                          precision    recall  f1-score   support\n",
      "\n",
      "             alt.atheism       0.84      0.92      0.88       216\n",
      "           comp.graphics       0.66      0.88      0.76       300\n",
      " comp.os.ms-windows.misc       0.95      0.30      0.45       284\n",
      "comp.sys.ibm.pc.hardware       0.68      0.84      0.75       312\n",
      "   comp.sys.mac.hardware       0.82      0.90      0.86       271\n",
      "          comp.windows.x       0.82      0.90      0.86       314\n",
      "            misc.forsale       0.91      0.76      0.83       294\n",
      "               rec.autos       0.91      0.92      0.92       302\n",
      "         rec.motorcycles       0.99      0.91      0.95       330\n",
      "      rec.sport.baseball       0.95      0.94      0.95       289\n",
      "        rec.sport.hockey       0.94      0.97      0.96       307\n",
      "               sci.crypt       0.91      0.96      0.93       291\n",
      "         sci.electronics       0.90      0.82      0.86       311\n",
      "                 sci.med       0.97      0.94      0.95       302\n",
      "               sci.space       0.93      0.95      0.94       308\n",
      "  soc.religion.christian       0.82      0.98      0.89       281\n",
      "      talk.politics.guns       0.86      0.94      0.90       249\n",
      "   talk.politics.mideast       0.91      0.99      0.95       273\n",
      "      talk.politics.misc       0.82      0.88      0.85       224\n",
      "      talk.religion.misc       0.99      0.50      0.66       191\n",
      "\n",
      "               micro avg       0.87      0.87      0.87      5649\n",
      "               macro avg       0.88      0.86      0.86      5649\n",
      "            weighted avg       0.88      0.87      0.86      5649\n",
      "\n"
     ]
    }
   ],
   "source": [
    "from sklearn.metrics import classification_report\n",
    "from sklearn.metrics import precision_recall_fscore_support\n",
    "\n",
    "#按照分类labels分类输出准确率召回率F1值\n",
    "print(classification_report(y_test, predicted, labels=dataset.label.unique()))"
   ]
  },
  {
   "cell_type": "markdown",
   "metadata": {},
   "source": [
    "# Feature Extraction Using TfidfVectorizer"
   ]
  },
  {
   "cell_type": "code",
   "execution_count": 24,
   "metadata": {},
   "outputs": [
    {
     "name": "stdout",
     "output_type": "stream",
     "text": [
      "                          precision    recall  f1-score   support\n",
      "\n",
      "             alt.atheism       0.84      0.85      0.84       216\n",
      "           comp.graphics       0.85      0.79      0.82       300\n",
      " comp.os.ms-windows.misc       0.75      0.87      0.81       284\n",
      "comp.sys.ibm.pc.hardware       0.76      0.81      0.78       312\n",
      "   comp.sys.mac.hardware       0.85      0.89      0.87       271\n",
      "          comp.windows.x       0.94      0.87      0.90       314\n",
      "            misc.forsale       0.91      0.75      0.82       294\n",
      "               rec.autos       0.91      0.93      0.92       302\n",
      "         rec.motorcycles       0.99      0.95      0.97       330\n",
      "      rec.sport.baseball       0.94      0.97      0.95       289\n",
      "        rec.sport.hockey       0.97      0.99      0.98       307\n",
      "               sci.crypt       0.86      0.98      0.92       291\n",
      "         sci.electronics       0.93      0.81      0.87       311\n",
      "                 sci.med       0.97      0.90      0.93       302\n",
      "               sci.space       0.94      0.96      0.95       308\n",
      "  soc.religion.christian       0.65      0.98      0.78       281\n",
      "      talk.politics.guns       0.75      0.96      0.85       249\n",
      "   talk.politics.mideast       0.93      0.99      0.96       273\n",
      "      talk.politics.misc       0.98      0.71      0.83       224\n",
      "      talk.religion.misc       1.00      0.23      0.37       191\n",
      "\n",
      "               micro avg       0.87      0.87      0.87      5649\n",
      "               macro avg       0.89      0.86      0.86      5649\n",
      "            weighted avg       0.89      0.87      0.87      5649\n",
      "\n"
     ]
    }
   ],
   "source": [
    "from sklearn.feature_extraction.text import TfidfVectorizer\n",
    "\n",
    "# preprocessor预处理数据\n",
    "tv = TfidfVectorizer(preprocessor=normalize_numbers, stop_words='english')\n",
    "X_train_tf = tv.fit_transform(X_train)\n",
    "X_test_tf = tv.transform(X_test)\n",
    "estimator2 = MultinomialNB()\n",
    "estimator2.fit(X_train_tf, y_train)\n",
    "predicted = estimator2.predict(X_test_tf)\n",
    "print(classification_report(y_test, predicted, labels=dataset.label.unique()))"
   ]
  },
  {
   "cell_type": "code",
   "execution_count": null,
   "metadata": {},
   "outputs": [],
   "source": []
  }
 ],
 "metadata": {
  "kernelspec": {
   "display_name": "Python 3",
   "language": "python",
   "name": "python3"
  },
  "language_info": {
   "codemirror_mode": {
    "name": "ipython",
    "version": 3
   },
   "file_extension": ".py",
   "mimetype": "text/x-python",
   "name": "python",
   "nbconvert_exporter": "python",
   "pygments_lexer": "ipython3",
   "version": "3.7.1"
  }
 },
 "nbformat": 4,
 "nbformat_minor": 2
}
